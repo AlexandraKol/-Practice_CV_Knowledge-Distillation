{
  "nbformat": 4,
  "nbformat_minor": 0,
  "metadata": {
    "colab": {
      "provenance": []
    },
    "kernelspec": {
      "name": "python3",
      "display_name": "Python 3"
    },
    "language_info": {
      "name": "python"
    }
  },
  "cells": [
    {
      "cell_type": "code",
      "execution_count": null,
      "metadata": {
        "colab": {
          "base_uri": "https://localhost:8080/"
        },
        "id": "L6CI0UCLOJPI",
        "outputId": "9910c7af-b5d5-43ba-d541-dda17fb98bae"
      },
      "outputs": [
        {
          "output_type": "stream",
          "name": "stdout",
          "text": [
            "Looking in indexes: https://pypi.org/simple, https://us-python.pkg.dev/colab-wheels/public/simple/\n",
            "Requirement already satisfied: tensorflow_addons in /usr/local/lib/python3.7/dist-packages (0.18.0)\n",
            "Requirement already satisfied: typeguard>=2.7 in /usr/local/lib/python3.7/dist-packages (from tensorflow_addons) (2.7.1)\n",
            "Requirement already satisfied: packaging in /usr/local/lib/python3.7/dist-packages (from tensorflow_addons) (21.3)\n",
            "Requirement already satisfied: pyparsing!=3.0.5,>=2.0.2 in /usr/local/lib/python3.7/dist-packages (from packaging->tensorflow_addons) (3.0.9)\n"
          ]
        }
      ],
      "source": [
        "# !pip install tensorflow_addons"
      ]
    },
    {
      "cell_type": "code",
      "execution_count": null,
      "metadata": {
        "id": "hNe8YKDrkMSS"
      },
      "outputs": [],
      "source": [
        "import os, shutil\n",
        "import numpy as np\n",
        "import tensorflow as tf\n",
        "import tensorflow_addons as tfa"
      ]
    },
    {
      "cell_type": "code",
      "source": [
        "from google.colab import drive\n",
        "drive.mount('/content/drive')"
      ],
      "metadata": {
        "colab": {
          "base_uri": "https://localhost:8080/"
        },
        "id": "HCbaZSLUkQ0j",
        "outputId": "180a042c-c195-4c1a-cb87-c4ad78572b05"
      },
      "execution_count": null,
      "outputs": [
        {
          "output_type": "stream",
          "name": "stdout",
          "text": [
            "Drive already mounted at /content/drive; to attempt to forcibly remount, call drive.mount(\"/content/drive\", force_remount=True).\n"
          ]
        }
      ]
    },
    {
      "cell_type": "code",
      "source": [
        "from keras.models import load_model\n",
        "model = load_model('/content/drive/MyDrive/dataset/ENetB0notS.h5')"
      ],
      "metadata": {
        "id": "I7O-LbrhkQyH"
      },
      "execution_count": null,
      "outputs": []
    },
    {
      "cell_type": "code",
      "source": [
        "import pandas as pd"
      ],
      "metadata": {
        "id": "Zz__fH6ekQvm"
      },
      "execution_count": null,
      "outputs": []
    },
    {
      "cell_type": "code",
      "source": [
        "from keras.preprocessing.image import ImageDataGenerator"
      ],
      "metadata": {
        "id": "OoWbAmbd2O-0"
      },
      "execution_count": null,
      "outputs": []
    },
    {
      "cell_type": "code",
      "source": [
        "original_dataset_dir = '/content/drive/MyDrive/data/'\n",
        "base_dir = '/content/drive/MyDrive/data/'\n",
        "\n",
        "train_dir = os.path.join(base_dir, 'train')\n",
        "test_dir = os.path.join(base_dir, 'test')\n",
        "\n",
        "batch = 10\n",
        "\n",
        "test_datagen = ImageDataGenerator()\n",
        "test_generator = test_datagen.flow_from_directory(\n",
        "    test_dir,\n",
        "    target_size=(256, 256),\n",
        "    batch_size=batch,\n",
        "    class_mode='categorical',\n",
        "    shuffle=False)"
      ],
      "metadata": {
        "colab": {
          "base_uri": "https://localhost:8080/"
        },
        "id": "u61-W6E31p4N",
        "outputId": "d444fc15-0e38-4100-9d61-c15be089b025"
      },
      "execution_count": null,
      "outputs": [
        {
          "output_type": "stream",
          "name": "stdout",
          "text": [
            "Found 2585 images belonging to 8 classes.\n"
          ]
        }
      ]
    },
    {
      "cell_type": "code",
      "source": [
        "x_test = test_generator.filepaths\n",
        "y_test = test_generator.labels"
      ],
      "metadata": {
        "id": "Rl_n2nWgPMbj"
      },
      "execution_count": null,
      "outputs": []
    },
    {
      "cell_type": "code",
      "source": [],
      "metadata": {
        "id": "fddvfvgaPMd5"
      },
      "execution_count": null,
      "outputs": []
    },
    {
      "cell_type": "code",
      "source": [
        "y_pred = model.predict(test_generator)\n",
        "\n",
        "print(y_pred)"
      ],
      "metadata": {
        "colab": {
          "base_uri": "https://localhost:8080/"
        },
        "id": "xaeSa92ykQle",
        "outputId": "97fb58db-f235-4c4d-c9ad-daa1842dbc2e"
      },
      "execution_count": null,
      "outputs": [
        {
          "output_type": "stream",
          "name": "stdout",
          "text": [
            "259/259 [==============================] - 351s 1s/step\n",
            "[[9.59808409e-01 1.15881103e-10 2.08047237e-02 ... 2.26582494e-03\n",
            "  2.47658090e-08 9.07890615e-04]\n",
            " [8.92399251e-01 2.29482744e-09 4.39243913e-02 ... 4.50706249e-03\n",
            "  1.14510995e-05 3.38015668e-02]\n",
            " [7.26933852e-02 3.89287109e-08 7.06157863e-01 ... 4.07495449e-04\n",
            "  7.32023238e-07 2.31684763e-02]\n",
            " ...\n",
            " [8.46239328e-01 1.16826049e-09 1.35766149e-01 ... 5.28229903e-05\n",
            "  1.52918716e-07 2.85456685e-04]\n",
            " [1.62080690e-01 2.78498381e-01 1.85824469e-01 ... 4.51861732e-02\n",
            "  5.18465079e-02 1.18813977e-01]\n",
            " [8.55483949e-01 1.48219020e-10 7.27800280e-02 ... 1.18845936e-04\n",
            "  7.18178370e-08 1.23309158e-03]]\n"
          ]
        }
      ]
    },
    {
      "cell_type": "code",
      "source": [
        "predicted_classes = np.argmax(y_pred, axis = 1)"
      ],
      "metadata": {
        "id": "j5ffg3-_6nK2"
      },
      "execution_count": null,
      "outputs": []
    },
    {
      "cell_type": "code",
      "source": [
        "print(predicted_classes)"
      ],
      "metadata": {
        "colab": {
          "base_uri": "https://localhost:8080/"
        },
        "id": "9l5TxAEn8PDr",
        "outputId": "9bd99ac0-7ea0-4ad8-8cf3-938de630f471"
      },
      "execution_count": null,
      "outputs": [
        {
          "output_type": "stream",
          "name": "stdout",
          "text": [
            "[0 0 2 ... 0 1 0]\n"
          ]
        }
      ]
    },
    {
      "cell_type": "code",
      "source": [
        "from sklearn.metrics import classification_report"
      ],
      "metadata": {
        "id": "xC5NLQm74PWO"
      },
      "execution_count": null,
      "outputs": []
    },
    {
      "cell_type": "code",
      "source": [
        "report = classification_report(y_test, predicted_classes)\n",
        "print(report)"
      ],
      "metadata": {
        "colab": {
          "base_uri": "https://localhost:8080/"
        },
        "id": "hUHst2pS4FyN",
        "outputId": "6143dfb2-f7aa-4698-fbfa-82c416375678"
      },
      "execution_count": null,
      "outputs": [
        {
          "output_type": "stream",
          "name": "stdout",
          "text": [
            "              precision    recall  f1-score   support\n",
            "\n",
            "           0       0.14      0.39      0.20       322\n",
            "           1       0.00      0.00      0.00       325\n",
            "           2       0.13      0.19      0.15       321\n",
            "           3       0.16      0.40      0.23       326\n",
            "           4       0.00      0.00      0.00       322\n",
            "           5       0.00      0.00      0.00       321\n",
            "           6       0.00      0.00      0.00       325\n",
            "           7       0.19      0.04      0.06       323\n",
            "\n",
            "    accuracy                           0.13      2585\n",
            "   macro avg       0.08      0.13      0.08      2585\n",
            "weighted avg       0.08      0.13      0.08      2585\n",
            "\n"
          ]
        },
        {
          "output_type": "stream",
          "name": "stderr",
          "text": [
            "/usr/local/lib/python3.7/dist-packages/sklearn/metrics/_classification.py:1318: UndefinedMetricWarning: Precision and F-score are ill-defined and being set to 0.0 in labels with no predicted samples. Use `zero_division` parameter to control this behavior.\n",
            "  _warn_prf(average, modifier, msg_start, len(result))\n",
            "/usr/local/lib/python3.7/dist-packages/sklearn/metrics/_classification.py:1318: UndefinedMetricWarning: Precision and F-score are ill-defined and being set to 0.0 in labels with no predicted samples. Use `zero_division` parameter to control this behavior.\n",
            "  _warn_prf(average, modifier, msg_start, len(result))\n",
            "/usr/local/lib/python3.7/dist-packages/sklearn/metrics/_classification.py:1318: UndefinedMetricWarning: Precision and F-score are ill-defined and being set to 0.0 in labels with no predicted samples. Use `zero_division` parameter to control this behavior.\n",
            "  _warn_prf(average, modifier, msg_start, len(result))\n"
          ]
        }
      ]
    },
    {
      "cell_type": "code",
      "source": [
        "df_marks = pd.DataFrame({'x_test': x_test,\n",
        "                         'y_test': y_test,\n",
        "                         'predicted_classes': predicted_classes})"
      ],
      "metadata": {
        "id": "XyLKPhu0PR3R"
      },
      "execution_count": null,
      "outputs": []
    },
    {
      "cell_type": "code",
      "source": [
        "df_marks.to_csv('/content/drive/MyDrive/data/pred_ENetB0notS.csv')"
      ],
      "metadata": {
        "id": "BSfmKn2lrwDg"
      },
      "execution_count": null,
      "outputs": []
    }
  ]
}