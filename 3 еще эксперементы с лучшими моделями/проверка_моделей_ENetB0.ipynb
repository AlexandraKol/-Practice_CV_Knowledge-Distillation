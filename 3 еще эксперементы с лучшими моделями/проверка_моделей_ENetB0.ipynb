{
  "nbformat": 4,
  "nbformat_minor": 0,
  "metadata": {
    "colab": {
      "provenance": []
    },
    "kernelspec": {
      "name": "python3",
      "display_name": "Python 3"
    },
    "language_info": {
      "name": "python"
    }
  },
  "cells": [
    {
      "cell_type": "code",
      "execution_count": null,
      "metadata": {
        "id": "L6CI0UCLOJPI"
      },
      "outputs": [],
      "source": []
    },
    {
      "cell_type": "code",
      "execution_count": null,
      "metadata": {
        "id": "hNe8YKDrkMSS"
      },
      "outputs": [],
      "source": [
        "import os, shutil\n",
        "import numpy as np"
      ]
    },
    {
      "cell_type": "code",
      "source": [
        "from google.colab import drive\n",
        "drive.mount('/content/drive')"
      ],
      "metadata": {
        "colab": {
          "base_uri": "https://localhost:8080/"
        },
        "id": "HCbaZSLUkQ0j",
        "outputId": "e531d2be-5c8b-4a26-daee-9a46cc72bacd"
      },
      "execution_count": null,
      "outputs": [
        {
          "output_type": "stream",
          "name": "stdout",
          "text": [
            "Mounted at /content/drive\n"
          ]
        }
      ]
    },
    {
      "cell_type": "code",
      "source": [
        "from keras.models import load_model\n",
        "model = load_model('/content/drive/MyDrive/dataset/ENetB0.h5')"
      ],
      "metadata": {
        "id": "I7O-LbrhkQyH"
      },
      "execution_count": null,
      "outputs": []
    },
    {
      "cell_type": "code",
      "source": [
        "import pandas as pd"
      ],
      "metadata": {
        "id": "Zz__fH6ekQvm"
      },
      "execution_count": null,
      "outputs": []
    },
    {
      "cell_type": "code",
      "source": [
        "from keras.preprocessing.image import ImageDataGenerator"
      ],
      "metadata": {
        "id": "OoWbAmbd2O-0"
      },
      "execution_count": null,
      "outputs": []
    },
    {
      "cell_type": "code",
      "source": [
        "original_dataset_dir = '/content/drive/MyDrive/data/'\n",
        "base_dir = '/content/drive/MyDrive/data/'\n",
        "\n",
        "train_dir = os.path.join(base_dir, 'train')\n",
        "test_dir = os.path.join(base_dir, 'test')\n",
        "\n",
        "batch = 10\n",
        "\n",
        "test_datagen = ImageDataGenerator()\n",
        "test_generator = test_datagen.flow_from_directory(\n",
        "    test_dir,\n",
        "    target_size=(224, 224),\n",
        "    batch_size=batch,\n",
        "    class_mode='categorical',\n",
        "    shuffle=False)"
      ],
      "metadata": {
        "colab": {
          "base_uri": "https://localhost:8080/"
        },
        "id": "u61-W6E31p4N",
        "outputId": "96e2c748-4982-4097-e6fa-2f043620a999"
      },
      "execution_count": null,
      "outputs": [
        {
          "output_type": "stream",
          "name": "stdout",
          "text": [
            "Found 2585 images belonging to 8 classes.\n"
          ]
        }
      ]
    },
    {
      "cell_type": "code",
      "source": [
        "x_test = test_generator.filepaths\n",
        "y_test = test_generator.labels"
      ],
      "metadata": {
        "id": "Rl_n2nWgPMbj"
      },
      "execution_count": null,
      "outputs": []
    },
    {
      "cell_type": "code",
      "source": [],
      "metadata": {
        "id": "fddvfvgaPMd5"
      },
      "execution_count": null,
      "outputs": []
    },
    {
      "cell_type": "code",
      "source": [
        "y_pred = model.predict(test_generator)\n",
        "\n",
        "print(y_pred)"
      ],
      "metadata": {
        "colab": {
          "base_uri": "https://localhost:8080/"
        },
        "id": "xaeSa92ykQle",
        "outputId": "66bdcd90-836a-4053-f939-aa5ed7b8c765"
      },
      "execution_count": null,
      "outputs": [
        {
          "output_type": "stream",
          "name": "stdout",
          "text": [
            "259/259 [==============================] - 694s 3s/step\n",
            "[[2.2628544e-08 1.7574283e-07 6.2228611e-11 ... 1.0613002e-28\n",
            "  2.0967112e-18 2.9642211e-19]\n",
            " [9.9990255e-01 3.1202979e-10 9.1510856e-08 ... 4.8405120e-30\n",
            "  2.1388544e-16 8.3632054e-23]\n",
            " [9.9999470e-01 4.2798792e-11 5.2992564e-06 ... 1.7636703e-29\n",
            "  6.0685576e-17 1.1333130e-19]\n",
            " ...\n",
            " [5.4758330e-13 4.0436149e-07 6.9525092e-09 ... 1.4166183e-17\n",
            "  5.7652449e-11 9.9999928e-01]\n",
            " [1.4024530e-08 6.7387898e-03 2.0741106e-03 ... 3.2200992e-06\n",
            "  5.5052376e-05 9.8800349e-01]\n",
            " [1.3025290e-09 2.6614936e-05 6.0086973e-07 ... 5.2251172e-13\n",
            "  2.1694806e-08 9.9969447e-01]]\n"
          ]
        }
      ]
    },
    {
      "cell_type": "code",
      "source": [
        "predicted_classes = np.argmax(y_pred, axis = 1)"
      ],
      "metadata": {
        "id": "j5ffg3-_6nK2"
      },
      "execution_count": null,
      "outputs": []
    },
    {
      "cell_type": "code",
      "source": [
        "print(predicted_classes)"
      ],
      "metadata": {
        "colab": {
          "base_uri": "https://localhost:8080/"
        },
        "id": "9l5TxAEn8PDr",
        "outputId": "795473b6-2815-4dc9-c64a-c04d8c033351"
      },
      "execution_count": null,
      "outputs": [
        {
          "output_type": "stream",
          "name": "stdout",
          "text": [
            "[3 0 0 ... 7 7 7]\n"
          ]
        }
      ]
    },
    {
      "cell_type": "code",
      "source": [
        "from sklearn.metrics import classification_report"
      ],
      "metadata": {
        "id": "xC5NLQm74PWO"
      },
      "execution_count": null,
      "outputs": []
    },
    {
      "cell_type": "code",
      "source": [
        "report = classification_report(y_test, predicted_classes)\n",
        "print(report)"
      ],
      "metadata": {
        "colab": {
          "base_uri": "https://localhost:8080/"
        },
        "id": "hUHst2pS4FyN",
        "outputId": "cdf7e29b-4371-48ce-f8fc-4549726261b2"
      },
      "execution_count": null,
      "outputs": [
        {
          "output_type": "stream",
          "name": "stdout",
          "text": [
            "              precision    recall  f1-score   support\n",
            "\n",
            "           0       0.79      0.98      0.88       322\n",
            "           1       0.87      0.85      0.86       325\n",
            "           2       0.84      0.73      0.78       321\n",
            "           3       0.79      0.79      0.79       326\n",
            "           4       0.88      0.78      0.83       322\n",
            "           5       1.00      1.00      1.00       321\n",
            "           6       0.94      0.96      0.95       325\n",
            "           7       0.98      0.98      0.98       323\n",
            "\n",
            "    accuracy                           0.88      2585\n",
            "   macro avg       0.89      0.88      0.88      2585\n",
            "weighted avg       0.89      0.88      0.88      2585\n",
            "\n"
          ]
        }
      ]
    },
    {
      "cell_type": "code",
      "source": [
        "df_marks = pd.DataFrame({'x_test': x_test,\n",
        "                         'y_test': y_test,\n",
        "                         'predicted_classes': predicted_classes})"
      ],
      "metadata": {
        "id": "XyLKPhu0PR3R"
      },
      "execution_count": null,
      "outputs": []
    },
    {
      "cell_type": "code",
      "source": [
        "df_marks.to_csv('/content/drive/MyDrive/data/pred_ENetB0.csv')"
      ],
      "metadata": {
        "id": "5D8JHhc3PR50"
      },
      "execution_count": null,
      "outputs": []
    }
  ]
}