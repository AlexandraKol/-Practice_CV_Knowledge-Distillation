{
  "nbformat": 4,
  "nbformat_minor": 0,
  "metadata": {
    "colab": {
      "provenance": []
    },
    "kernelspec": {
      "name": "python3",
      "display_name": "Python 3"
    },
    "language_info": {
      "name": "python"
    }
  },
  "cells": [
    {
      "cell_type": "code",
      "execution_count": null,
      "metadata": {
        "colab": {
          "base_uri": "https://localhost:8080/"
        },
        "id": "L6CI0UCLOJPI",
        "outputId": "9910c7af-b5d5-43ba-d541-dda17fb98bae"
      },
      "outputs": [
        {
          "output_type": "stream",
          "name": "stdout",
          "text": [
            "Looking in indexes: https://pypi.org/simple, https://us-python.pkg.dev/colab-wheels/public/simple/\n",
            "Requirement already satisfied: tensorflow_addons in /usr/local/lib/python3.7/dist-packages (0.18.0)\n",
            "Requirement already satisfied: typeguard>=2.7 in /usr/local/lib/python3.7/dist-packages (from tensorflow_addons) (2.7.1)\n",
            "Requirement already satisfied: packaging in /usr/local/lib/python3.7/dist-packages (from tensorflow_addons) (21.3)\n",
            "Requirement already satisfied: pyparsing!=3.0.5,>=2.0.2 in /usr/local/lib/python3.7/dist-packages (from packaging->tensorflow_addons) (3.0.9)\n"
          ]
        }
      ],
      "source": [
        "# !pip install tensorflow_addons"
      ]
    },
    {
      "cell_type": "code",
      "execution_count": null,
      "metadata": {
        "id": "hNe8YKDrkMSS"
      },
      "outputs": [],
      "source": [
        "import os, shutil\n",
        "import numpy as np\n",
        "import tensorflow as tf\n",
        "import tensorflow_addons as tfa"
      ]
    },
    {
      "cell_type": "code",
      "source": [
        "from google.colab import drive\n",
        "drive.mount('/content/drive')"
      ],
      "metadata": {
        "colab": {
          "base_uri": "https://localhost:8080/"
        },
        "id": "HCbaZSLUkQ0j",
        "outputId": "180a042c-c195-4c1a-cb87-c4ad78572b05"
      },
      "execution_count": null,
      "outputs": [
        {
          "output_type": "stream",
          "name": "stdout",
          "text": [
            "Drive already mounted at /content/drive; to attempt to forcibly remount, call drive.mount(\"/content/drive\", force_remount=True).\n"
          ]
        }
      ]
    },
    {
      "cell_type": "code",
      "source": [
        "from keras.models import load_model\n",
        "model = load_model('/content/drive/MyDrive/dataset/ENetB2.h5')"
      ],
      "metadata": {
        "id": "I7O-LbrhkQyH"
      },
      "execution_count": null,
      "outputs": []
    },
    {
      "cell_type": "code",
      "source": [
        "import pandas as pd"
      ],
      "metadata": {
        "id": "Zz__fH6ekQvm"
      },
      "execution_count": null,
      "outputs": []
    },
    {
      "cell_type": "code",
      "source": [
        "from keras.preprocessing.image import ImageDataGenerator"
      ],
      "metadata": {
        "id": "OoWbAmbd2O-0"
      },
      "execution_count": null,
      "outputs": []
    },
    {
      "cell_type": "code",
      "source": [
        "original_dataset_dir = '/content/drive/MyDrive/data/'\n",
        "base_dir = '/content/drive/MyDrive/data/'\n",
        "\n",
        "train_dir = os.path.join(base_dir, 'train')\n",
        "test_dir = os.path.join(base_dir, 'test')\n",
        "\n",
        "batch = 10\n",
        "\n",
        "test_datagen = ImageDataGenerator()\n",
        "test_generator = test_datagen.flow_from_directory(\n",
        "    test_dir,\n",
        "    target_size=(224, 224),\n",
        "    batch_size=batch,\n",
        "    class_mode='categorical',\n",
        "    shuffle=False)"
      ],
      "metadata": {
        "colab": {
          "base_uri": "https://localhost:8080/"
        },
        "id": "u61-W6E31p4N",
        "outputId": "c7740754-c12a-4280-b9b2-e81f7c8715bc"
      },
      "execution_count": null,
      "outputs": [
        {
          "output_type": "stream",
          "name": "stdout",
          "text": [
            "Found 2585 images belonging to 8 classes.\n"
          ]
        }
      ]
    },
    {
      "cell_type": "code",
      "source": [
        "x_test = test_generator.filepaths\n",
        "y_test = test_generator.labels"
      ],
      "metadata": {
        "id": "Rl_n2nWgPMbj"
      },
      "execution_count": null,
      "outputs": []
    },
    {
      "cell_type": "code",
      "source": [],
      "metadata": {
        "id": "fddvfvgaPMd5"
      },
      "execution_count": null,
      "outputs": []
    },
    {
      "cell_type": "code",
      "source": [
        "y_pred = model.predict(test_generator)\n",
        "\n",
        "print(y_pred)"
      ],
      "metadata": {
        "colab": {
          "base_uri": "https://localhost:8080/"
        },
        "id": "xaeSa92ykQle",
        "outputId": "dde99aaa-a631-499a-e524-737f8c02641a"
      },
      "execution_count": null,
      "outputs": [
        {
          "output_type": "stream",
          "name": "stdout",
          "text": [
            "259/259 [==============================] - 376s 1s/step\n",
            "[[9.9999970e-01 4.8737420e-15 1.0471416e-11 ... 1.7288619e-35\n",
            "  5.6138272e-19 1.5718418e-21]\n",
            " [9.9967456e-01 1.8611848e-10 6.0275693e-07 ... 1.5805785e-19\n",
            "  4.2480967e-11 8.8917690e-15]\n",
            " [9.9999994e-01 3.2312870e-14 2.8707535e-12 ... 1.7393212e-27\n",
            "  7.5231939e-21 8.2529458e-20]\n",
            " ...\n",
            " [2.5461754e-08 4.0766226e-06 3.0274626e-07 ... 1.1827525e-11\n",
            "  1.3052919e-09 9.9999559e-01]\n",
            " [6.9378487e-08 5.0489814e-04 2.0991129e-05 ... 3.1228493e-07\n",
            "  8.1509775e-08 9.9944061e-01]\n",
            " [2.0491371e-09 2.3000301e-05 1.2871655e-07 ... 2.8107505e-12\n",
            "  1.5302511e-10 9.9997604e-01]]\n"
          ]
        }
      ]
    },
    {
      "cell_type": "code",
      "source": [
        "predicted_classes = np.argmax(y_pred, axis = 1)"
      ],
      "metadata": {
        "id": "j5ffg3-_6nK2"
      },
      "execution_count": null,
      "outputs": []
    },
    {
      "cell_type": "code",
      "source": [
        "print(predicted_classes)"
      ],
      "metadata": {
        "colab": {
          "base_uri": "https://localhost:8080/"
        },
        "id": "9l5TxAEn8PDr",
        "outputId": "9bd99ac0-7ea0-4ad8-8cf3-938de630f471"
      },
      "execution_count": null,
      "outputs": [
        {
          "output_type": "stream",
          "name": "stdout",
          "text": [
            "[0 0 2 ... 0 1 0]\n"
          ]
        }
      ]
    },
    {
      "cell_type": "code",
      "source": [
        "from sklearn.metrics import classification_report"
      ],
      "metadata": {
        "id": "xC5NLQm74PWO"
      },
      "execution_count": null,
      "outputs": []
    },
    {
      "cell_type": "code",
      "source": [
        "report = classification_report(y_test, predicted_classes)\n",
        "print(report)"
      ],
      "metadata": {
        "colab": {
          "base_uri": "https://localhost:8080/"
        },
        "id": "hUHst2pS4FyN",
        "outputId": "6143dfb2-f7aa-4698-fbfa-82c416375678"
      },
      "execution_count": null,
      "outputs": [
        {
          "output_type": "stream",
          "name": "stdout",
          "text": [
            "              precision    recall  f1-score   support\n",
            "\n",
            "           0       0.14      0.39      0.20       322\n",
            "           1       0.00      0.00      0.00       325\n",
            "           2       0.13      0.19      0.15       321\n",
            "           3       0.16      0.40      0.23       326\n",
            "           4       0.00      0.00      0.00       322\n",
            "           5       0.00      0.00      0.00       321\n",
            "           6       0.00      0.00      0.00       325\n",
            "           7       0.19      0.04      0.06       323\n",
            "\n",
            "    accuracy                           0.13      2585\n",
            "   macro avg       0.08      0.13      0.08      2585\n",
            "weighted avg       0.08      0.13      0.08      2585\n",
            "\n"
          ]
        },
        {
          "output_type": "stream",
          "name": "stderr",
          "text": [
            "/usr/local/lib/python3.7/dist-packages/sklearn/metrics/_classification.py:1318: UndefinedMetricWarning: Precision and F-score are ill-defined and being set to 0.0 in labels with no predicted samples. Use `zero_division` parameter to control this behavior.\n",
            "  _warn_prf(average, modifier, msg_start, len(result))\n",
            "/usr/local/lib/python3.7/dist-packages/sklearn/metrics/_classification.py:1318: UndefinedMetricWarning: Precision and F-score are ill-defined and being set to 0.0 in labels with no predicted samples. Use `zero_division` parameter to control this behavior.\n",
            "  _warn_prf(average, modifier, msg_start, len(result))\n",
            "/usr/local/lib/python3.7/dist-packages/sklearn/metrics/_classification.py:1318: UndefinedMetricWarning: Precision and F-score are ill-defined and being set to 0.0 in labels with no predicted samples. Use `zero_division` parameter to control this behavior.\n",
            "  _warn_prf(average, modifier, msg_start, len(result))\n"
          ]
        }
      ]
    },
    {
      "cell_type": "code",
      "source": [
        "df_marks = pd.DataFrame({'x_test': x_test,\n",
        "                         'y_test': y_test,\n",
        "                         'predicted_classes': predicted_classes})"
      ],
      "metadata": {
        "id": "XyLKPhu0PR3R"
      },
      "execution_count": null,
      "outputs": []
    },
    {
      "cell_type": "code",
      "source": [
        "df_marks.to_csv('/content/drive/MyDrive/data/pred_ENetB2.csv')"
      ],
      "metadata": {
        "id": "BSfmKn2lrwDg"
      },
      "execution_count": null,
      "outputs": []
    }
  ]
}