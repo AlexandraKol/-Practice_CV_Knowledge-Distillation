{
  "nbformat": 4,
  "nbformat_minor": 0,
  "metadata": {
    "colab": {
      "provenance": [],
      "collapsed_sections": []
    },
    "kernelspec": {
      "name": "python3",
      "display_name": "Python 3"
    },
    "language_info": {
      "name": "python"
    }
  },
  "cells": [
    {
      "cell_type": "code",
      "execution_count": null,
      "metadata": {
        "colab": {
          "base_uri": "https://localhost:8080/"
        },
        "id": "L6CI0UCLOJPI",
        "outputId": "9910c7af-b5d5-43ba-d541-dda17fb98bae"
      },
      "outputs": [
        {
          "output_type": "stream",
          "name": "stdout",
          "text": [
            "Looking in indexes: https://pypi.org/simple, https://us-python.pkg.dev/colab-wheels/public/simple/\n",
            "Requirement already satisfied: tensorflow_addons in /usr/local/lib/python3.7/dist-packages (0.18.0)\n",
            "Requirement already satisfied: typeguard>=2.7 in /usr/local/lib/python3.7/dist-packages (from tensorflow_addons) (2.7.1)\n",
            "Requirement already satisfied: packaging in /usr/local/lib/python3.7/dist-packages (from tensorflow_addons) (21.3)\n",
            "Requirement already satisfied: pyparsing!=3.0.5,>=2.0.2 in /usr/local/lib/python3.7/dist-packages (from packaging->tensorflow_addons) (3.0.9)\n"
          ]
        }
      ],
      "source": [
        "!pip install tensorflow_addons"
      ]
    },
    {
      "cell_type": "code",
      "execution_count": null,
      "metadata": {
        "id": "hNe8YKDrkMSS"
      },
      "outputs": [],
      "source": [
        "import os, shutil\n",
        "import numpy as np\n",
        "import tensorflow as tf\n",
        "import tensorflow_addons as tfa"
      ]
    },
    {
      "cell_type": "code",
      "source": [
        "from google.colab import drive\n",
        "drive.mount('/content/drive')"
      ],
      "metadata": {
        "colab": {
          "base_uri": "https://localhost:8080/"
        },
        "id": "HCbaZSLUkQ0j",
        "outputId": "180a042c-c195-4c1a-cb87-c4ad78572b05"
      },
      "execution_count": null,
      "outputs": [
        {
          "output_type": "stream",
          "name": "stdout",
          "text": [
            "Drive already mounted at /content/drive; to attempt to forcibly remount, call drive.mount(\"/content/drive\", force_remount=True).\n"
          ]
        }
      ]
    },
    {
      "cell_type": "code",
      "source": [
        "from keras.models import load_model\n",
        "model = load_model('/content/drive/MyDrive/dataset/ENetB3.h5')"
      ],
      "metadata": {
        "id": "I7O-LbrhkQyH"
      },
      "execution_count": null,
      "outputs": []
    },
    {
      "cell_type": "code",
      "source": [
        "import pandas as pd"
      ],
      "metadata": {
        "id": "Zz__fH6ekQvm"
      },
      "execution_count": null,
      "outputs": []
    },
    {
      "cell_type": "code",
      "source": [
        "from keras.preprocessing.image import ImageDataGenerator"
      ],
      "metadata": {
        "id": "OoWbAmbd2O-0"
      },
      "execution_count": null,
      "outputs": []
    },
    {
      "cell_type": "code",
      "source": [
        "original_dataset_dir = '/content/drive/MyDrive/data/'\n",
        "base_dir = '/content/drive/MyDrive/data/'\n",
        "\n",
        "train_dir = os.path.join(base_dir, 'train')\n",
        "test_dir = os.path.join(base_dir, 'test')\n",
        "\n",
        "batch = 10\n",
        "\n",
        "test_datagen = ImageDataGenerator()\n",
        "test_generator = test_datagen.flow_from_directory(\n",
        "    test_dir,\n",
        "    target_size=(224, 224),\n",
        "    batch_size=batch,\n",
        "    class_mode='categorical',\n",
        "    shuffle=False)"
      ],
      "metadata": {
        "colab": {
          "base_uri": "https://localhost:8080/"
        },
        "id": "u61-W6E31p4N",
        "outputId": "af964fc5-26ae-41f4-f596-c1d3f85f78d3"
      },
      "execution_count": null,
      "outputs": [
        {
          "output_type": "stream",
          "name": "stdout",
          "text": [
            "Found 2585 images belonging to 8 classes.\n"
          ]
        }
      ]
    },
    {
      "cell_type": "code",
      "source": [
        "x_test = test_generator.filepaths\n",
        "y_test = test_generator.labels"
      ],
      "metadata": {
        "id": "Rl_n2nWgPMbj"
      },
      "execution_count": null,
      "outputs": []
    },
    {
      "cell_type": "code",
      "source": [],
      "metadata": {
        "id": "fddvfvgaPMd5"
      },
      "execution_count": null,
      "outputs": []
    },
    {
      "cell_type": "code",
      "source": [
        "y_pred = model.predict(test_generator)\n",
        "\n",
        "print(y_pred)"
      ],
      "metadata": {
        "colab": {
          "base_uri": "https://localhost:8080/"
        },
        "id": "xaeSa92ykQle",
        "outputId": "3a2c1db6-a2b8-4cd2-af23-3b2e8b06d634"
      },
      "execution_count": null,
      "outputs": [
        {
          "output_type": "stream",
          "name": "stdout",
          "text": [
            "259/259 [==============================] - 483s 2s/step\n",
            "[[9.99998271e-01 2.26159744e-10 1.25056701e-07 ... 2.51987326e-21\n",
            "  1.00981124e-16 1.07884587e-11]\n",
            " [9.99905884e-01 2.12841044e-07 5.38464519e-07 ... 1.50224292e-14\n",
            "  5.57309338e-11 6.49110496e-12]\n",
            " [9.99999940e-01 1.31354846e-14 3.69186570e-10 ... 3.99512058e-24\n",
            "  2.28544172e-18 6.61447894e-19]\n",
            " ...\n",
            " [3.04532257e-08 3.23716449e-05 1.34502034e-06 ... 7.83429988e-11\n",
            "  2.64171227e-08 9.99965310e-01]\n",
            " [2.97509173e-09 2.60197674e-03 2.13878102e-05 ... 4.54294113e-09\n",
            "  4.80487870e-07 9.97374058e-01]\n",
            " [3.46577700e-08 1.51339016e-04 4.64228469e-06 ... 7.63646091e-11\n",
            "  8.69425349e-08 9.99839783e-01]]\n"
          ]
        }
      ]
    },
    {
      "cell_type": "code",
      "source": [
        "predicted_classes = np.argmax(y_pred, axis = 1)"
      ],
      "metadata": {
        "id": "j5ffg3-_6nK2"
      },
      "execution_count": null,
      "outputs": []
    },
    {
      "cell_type": "code",
      "source": [
        "print(predicted_classes)"
      ],
      "metadata": {
        "colab": {
          "base_uri": "https://localhost:8080/"
        },
        "id": "9l5TxAEn8PDr",
        "outputId": "0e3c95d7-e800-4e8d-db5d-1debf76fda39"
      },
      "execution_count": null,
      "outputs": [
        {
          "output_type": "stream",
          "name": "stdout",
          "text": [
            "[0 0 0 ... 7 7 7]\n"
          ]
        }
      ]
    },
    {
      "cell_type": "code",
      "source": [
        "from sklearn.metrics import classification_report"
      ],
      "metadata": {
        "id": "xC5NLQm74PWO"
      },
      "execution_count": null,
      "outputs": []
    },
    {
      "cell_type": "code",
      "source": [
        "report = classification_report(y_test, predicted_classes)\n",
        "print(report)"
      ],
      "metadata": {
        "colab": {
          "base_uri": "https://localhost:8080/"
        },
        "id": "hUHst2pS4FyN",
        "outputId": "8248cc84-207a-461f-a545-adb398567bd7"
      },
      "execution_count": null,
      "outputs": [
        {
          "output_type": "stream",
          "name": "stdout",
          "text": [
            "              precision    recall  f1-score   support\n",
            "\n",
            "           0       0.95      1.00      0.97       322\n",
            "           1       0.89      0.86      0.87       325\n",
            "           2       0.88      0.73      0.79       321\n",
            "           3       0.74      0.86      0.79       326\n",
            "           4       0.93      0.83      0.88       322\n",
            "           5       1.00      1.00      1.00       321\n",
            "           6       0.94      0.99      0.97       325\n",
            "           7       0.96      1.00      0.98       323\n",
            "\n",
            "    accuracy                           0.91      2585\n",
            "   macro avg       0.91      0.91      0.91      2585\n",
            "weighted avg       0.91      0.91      0.91      2585\n",
            "\n"
          ]
        }
      ]
    },
    {
      "cell_type": "code",
      "source": [
        "df_marks = pd.DataFrame({'x_test': x_test,\n",
        "                         'y_test': y_test,\n",
        "                         'predicted_classes': predicted_classes})"
      ],
      "metadata": {
        "id": "XyLKPhu0PR3R"
      },
      "execution_count": null,
      "outputs": []
    },
    {
      "cell_type": "code",
      "source": [
        "df_marks.to_csv('/content/drive/MyDrive/data/pred_ENetB3.csv')"
      ],
      "metadata": {
        "id": "BSfmKn2lrwDg"
      },
      "execution_count": null,
      "outputs": []
    }
  ]
}