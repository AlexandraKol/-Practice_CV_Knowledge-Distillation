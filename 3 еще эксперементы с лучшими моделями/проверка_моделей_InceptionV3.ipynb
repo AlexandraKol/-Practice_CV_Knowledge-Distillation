{
  "nbformat": 4,
  "nbformat_minor": 0,
  "metadata": {
    "colab": {
      "provenance": []
    },
    "kernelspec": {
      "name": "python3",
      "display_name": "Python 3"
    },
    "language_info": {
      "name": "python"
    }
  },
  "cells": [
    {
      "cell_type": "code",
      "execution_count": null,
      "metadata": {
        "colab": {
          "base_uri": "https://localhost:8080/"
        },
        "id": "L6CI0UCLOJPI",
        "outputId": "9910c7af-b5d5-43ba-d541-dda17fb98bae"
      },
      "outputs": [
        {
          "output_type": "stream",
          "name": "stdout",
          "text": [
            "Looking in indexes: https://pypi.org/simple, https://us-python.pkg.dev/colab-wheels/public/simple/\n",
            "Requirement already satisfied: tensorflow_addons in /usr/local/lib/python3.7/dist-packages (0.18.0)\n",
            "Requirement already satisfied: typeguard>=2.7 in /usr/local/lib/python3.7/dist-packages (from tensorflow_addons) (2.7.1)\n",
            "Requirement already satisfied: packaging in /usr/local/lib/python3.7/dist-packages (from tensorflow_addons) (21.3)\n",
            "Requirement already satisfied: pyparsing!=3.0.5,>=2.0.2 in /usr/local/lib/python3.7/dist-packages (from packaging->tensorflow_addons) (3.0.9)\n"
          ]
        }
      ],
      "source": [
        "# !pip install tensorflow_addons"
      ]
    },
    {
      "cell_type": "code",
      "execution_count": null,
      "metadata": {
        "id": "hNe8YKDrkMSS"
      },
      "outputs": [],
      "source": [
        "import os, shutil\n",
        "import numpy as np\n",
        "import tensorflow as tf\n",
        "import tensorflow_addons as tfa"
      ]
    },
    {
      "cell_type": "code",
      "source": [
        "from google.colab import drive\n",
        "drive.mount('/content/drive')"
      ],
      "metadata": {
        "colab": {
          "base_uri": "https://localhost:8080/"
        },
        "id": "HCbaZSLUkQ0j",
        "outputId": "180a042c-c195-4c1a-cb87-c4ad78572b05"
      },
      "execution_count": null,
      "outputs": [
        {
          "output_type": "stream",
          "name": "stdout",
          "text": [
            "Drive already mounted at /content/drive; to attempt to forcibly remount, call drive.mount(\"/content/drive\", force_remount=True).\n"
          ]
        }
      ]
    },
    {
      "cell_type": "code",
      "source": [
        "from keras.models import load_model\n",
        "model = load_model('/content/drive/MyDrive/dataset/InceptionV3.h5')"
      ],
      "metadata": {
        "id": "I7O-LbrhkQyH"
      },
      "execution_count": null,
      "outputs": []
    },
    {
      "cell_type": "code",
      "source": [
        "import pandas as pd"
      ],
      "metadata": {
        "id": "Zz__fH6ekQvm"
      },
      "execution_count": null,
      "outputs": []
    },
    {
      "cell_type": "code",
      "source": [
        "from keras.preprocessing.image import ImageDataGenerator"
      ],
      "metadata": {
        "id": "OoWbAmbd2O-0"
      },
      "execution_count": null,
      "outputs": []
    },
    {
      "cell_type": "code",
      "source": [
        "original_dataset_dir = '/content/drive/MyDrive/data/'\n",
        "base_dir = '/content/drive/MyDrive/data/'\n",
        "\n",
        "train_dir = os.path.join(base_dir, 'train')\n",
        "test_dir = os.path.join(base_dir, 'test')\n",
        "\n",
        "batch = 10\n",
        "\n",
        "test_datagen = ImageDataGenerator()\n",
        "test_generator = test_datagen.flow_from_directory(\n",
        "    test_dir,\n",
        "    target_size=(224, 224),\n",
        "    batch_size=batch,\n",
        "    class_mode='categorical',\n",
        "    shuffle=False)"
      ],
      "metadata": {
        "colab": {
          "base_uri": "https://localhost:8080/"
        },
        "id": "u61-W6E31p4N",
        "outputId": "6a7c7102-68e3-4d0d-a8c0-2732cb59ce30"
      },
      "execution_count": null,
      "outputs": [
        {
          "output_type": "stream",
          "name": "stdout",
          "text": [
            "Found 2585 images belonging to 8 classes.\n"
          ]
        }
      ]
    },
    {
      "cell_type": "code",
      "source": [
        "x_test = test_generator.filepaths\n",
        "y_test = test_generator.labels"
      ],
      "metadata": {
        "id": "Rl_n2nWgPMbj"
      },
      "execution_count": null,
      "outputs": []
    },
    {
      "cell_type": "code",
      "source": [],
      "metadata": {
        "id": "fddvfvgaPMd5"
      },
      "execution_count": null,
      "outputs": []
    },
    {
      "cell_type": "code",
      "source": [
        "y_pred = model.predict(test_generator)\n",
        "\n",
        "print(y_pred)"
      ],
      "metadata": {
        "colab": {
          "base_uri": "https://localhost:8080/"
        },
        "id": "xaeSa92ykQle",
        "outputId": "b58a89a6-112d-4f4b-946f-84844d346a9b"
      },
      "execution_count": null,
      "outputs": [
        {
          "output_type": "stream",
          "name": "stdout",
          "text": [
            "259/259 [==============================] - 433s 2s/step\n",
            "[[1.3521564e-01 1.2936246e-01 1.3165812e-01 ... 9.4289869e-02\n",
            "  1.3180108e-01 1.2146164e-01]\n",
            " [7.9553312e-04 8.3414298e-03 4.9392007e-02 ... 2.3220078e-05\n",
            "  1.0062841e-04 3.1372929e-05]\n",
            " [1.3521564e-01 1.2936246e-01 1.3165812e-01 ... 9.4289869e-02\n",
            "  1.3180108e-01 1.2146164e-01]\n",
            " ...\n",
            " [7.4243367e-02 2.2180420e-01 1.5922680e-01 ... 1.1829741e-02\n",
            "  1.1311559e-01 2.5382018e-01]\n",
            " [1.1017546e-01 1.8740329e-01 1.5988551e-01 ... 3.6436193e-02\n",
            "  1.3458635e-01 1.9446009e-01]\n",
            " [1.2827870e-01 1.6122451e-01 1.5092009e-01 ... 6.2801905e-02\n",
            "  1.3916329e-01 1.5872695e-01]]\n"
          ]
        }
      ]
    },
    {
      "cell_type": "code",
      "source": [
        "predicted_classes = np.argmax(y_pred, axis = 1)"
      ],
      "metadata": {
        "id": "j5ffg3-_6nK2"
      },
      "execution_count": null,
      "outputs": []
    },
    {
      "cell_type": "code",
      "source": [
        "print(predicted_classes)"
      ],
      "metadata": {
        "colab": {
          "base_uri": "https://localhost:8080/"
        },
        "id": "9l5TxAEn8PDr",
        "outputId": "0ce31572-02bf-47ac-fa16-46d227c91472"
      },
      "execution_count": null,
      "outputs": [
        {
          "output_type": "stream",
          "name": "stdout",
          "text": [
            "[0 3 0 ... 7 7 1]\n"
          ]
        }
      ]
    },
    {
      "cell_type": "code",
      "source": [
        "from sklearn.metrics import classification_report"
      ],
      "metadata": {
        "id": "xC5NLQm74PWO"
      },
      "execution_count": null,
      "outputs": []
    },
    {
      "cell_type": "code",
      "source": [
        "report = classification_report(y_test, predicted_classes)\n",
        "print(report)"
      ],
      "metadata": {
        "colab": {
          "base_uri": "https://localhost:8080/"
        },
        "id": "hUHst2pS4FyN",
        "outputId": "1dfae75f-6aa6-4b2f-a4ed-6eb85e1c3788"
      },
      "execution_count": null,
      "outputs": [
        {
          "output_type": "stream",
          "name": "stdout",
          "text": [
            "              precision    recall  f1-score   support\n",
            "\n",
            "           0       0.21      0.90      0.34       322\n",
            "           1       0.27      0.11      0.16       325\n",
            "           2       0.00      0.00      0.00       321\n",
            "           3       0.68      0.61      0.64       326\n",
            "           4       0.13      0.01      0.02       322\n",
            "           5       0.98      0.99      0.99       321\n",
            "           6       0.38      0.09      0.15       325\n",
            "           7       0.57      0.55      0.56       323\n",
            "\n",
            "    accuracy                           0.41      2585\n",
            "   macro avg       0.40      0.41      0.36      2585\n",
            "weighted avg       0.40      0.41      0.36      2585\n",
            "\n"
          ]
        }
      ]
    },
    {
      "cell_type": "code",
      "source": [
        "df_marks = pd.DataFrame({'x_test': x_test,\n",
        "                         'y_test': y_test,\n",
        "                         'predicted_classes': predicted_classes})"
      ],
      "metadata": {
        "id": "XyLKPhu0PR3R"
      },
      "execution_count": null,
      "outputs": []
    },
    {
      "cell_type": "code",
      "source": [
        "df_marks.to_csv('/content/drive/MyDrive/data/pred_InceptionV3.csv')"
      ],
      "metadata": {
        "id": "BSfmKn2lrwDg"
      },
      "execution_count": null,
      "outputs": []
    }
  ]
}